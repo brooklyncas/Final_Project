{
 "cells": [
  {
   "cell_type": "markdown",
   "metadata": {},
   "source": [
    "## Introduction\n",
    "This is my notebook for the analysis of the **Playgrounds** Dataset."
   ]
  },
  {
   "cell_type": "code",
   "execution_count": 5,
   "metadata": {},
   "outputs": [],
   "source": [
    "import pandas as pd\n",
    "import numpy as np\n",
    "%matplotlib inline\n",
    "import matplotlib.pyplot as plt"
   ]
  },
  {
   "cell_type": "code",
   "execution_count": 6,
   "metadata": {},
   "outputs": [
    {
     "data": {
      "text/html": [
       "<div>\n",
       "<style scoped>\n",
       "    .dataframe tbody tr th:only-of-type {\n",
       "        vertical-align: middle;\n",
       "    }\n",
       "\n",
       "    .dataframe tbody tr th {\n",
       "        vertical-align: top;\n",
       "    }\n",
       "\n",
       "    .dataframe thead th {\n",
       "        text-align: right;\n",
       "    }\n",
       "</style>\n",
       "<table border=\"1\" class=\"dataframe\">\n",
       "  <thead>\n",
       "    <tr style=\"text-align: right;\">\n",
       "      <th></th>\n",
       "      <th>name</th>\n",
       "      <th>type</th>\n",
       "      <th>maintenance_responsibility</th>\n",
       "      <th>park</th>\n",
       "      <th>street</th>\n",
       "      <th>image</th>\n",
       "      <th>neighborhood</th>\n",
       "      <th>council_district</th>\n",
       "      <th>ward</th>\n",
       "      <th>tract</th>\n",
       "      <th>public_works_division</th>\n",
       "      <th>pli_division</th>\n",
       "      <th>police_zone</th>\n",
       "      <th>fire_zone</th>\n",
       "      <th>latitude</th>\n",
       "      <th>longitude</th>\n",
       "    </tr>\n",
       "    <tr>\n",
       "      <th>id</th>\n",
       "      <th></th>\n",
       "      <th></th>\n",
       "      <th></th>\n",
       "      <th></th>\n",
       "      <th></th>\n",
       "      <th></th>\n",
       "      <th></th>\n",
       "      <th></th>\n",
       "      <th></th>\n",
       "      <th></th>\n",
       "      <th></th>\n",
       "      <th></th>\n",
       "      <th></th>\n",
       "      <th></th>\n",
       "      <th></th>\n",
       "      <th></th>\n",
       "    </tr>\n",
       "  </thead>\n",
       "  <tbody>\n",
       "    <tr>\n",
       "      <th>731501774</th>\n",
       "      <td>Able Long Playground</td>\n",
       "      <td>NaN</td>\n",
       "      <td>Parks - Western</td>\n",
       "      <td>Able Long Park</td>\n",
       "      <td>COAST AVE</td>\n",
       "      <td>https://tools.wprdc.org/images/pittsburgh/play...</td>\n",
       "      <td>Beechview</td>\n",
       "      <td>4</td>\n",
       "      <td>19</td>\n",
       "      <td>42003192000</td>\n",
       "      <td>5</td>\n",
       "      <td>19</td>\n",
       "      <td>6</td>\n",
       "      <td>4-28</td>\n",
       "      <td>40.408365</td>\n",
       "      <td>-80.028445</td>\n",
       "    </tr>\n",
       "    <tr>\n",
       "      <th>1461276747</th>\n",
       "      <td>Albert Graham Playground</td>\n",
       "      <td>NaN</td>\n",
       "      <td>Parks - Schenley</td>\n",
       "      <td>Albert Turk Graham Park</td>\n",
       "      <td>FORESIDE PL</td>\n",
       "      <td>https://tools.wprdc.org/images/pittsburgh/play...</td>\n",
       "      <td>Crawford-Roberts</td>\n",
       "      <td>6</td>\n",
       "      <td>3</td>\n",
       "      <td>42003030500</td>\n",
       "      <td>3</td>\n",
       "      <td>3</td>\n",
       "      <td>2</td>\n",
       "      <td>2-1</td>\n",
       "      <td>40.440519</td>\n",
       "      <td>-79.984137</td>\n",
       "    </tr>\n",
       "    <tr>\n",
       "      <th>1860709784</th>\n",
       "      <td>Alpine Playground</td>\n",
       "      <td>NaN</td>\n",
       "      <td>Parks - Northern</td>\n",
       "      <td>Alpine Gardens Park</td>\n",
       "      <td>ALPINE AVE</td>\n",
       "      <td>https://tools.wprdc.org/images/pittsburgh/play...</td>\n",
       "      <td>Central Northside</td>\n",
       "      <td>6</td>\n",
       "      <td>25</td>\n",
       "      <td>42003250300</td>\n",
       "      <td>1</td>\n",
       "      <td>25</td>\n",
       "      <td>1</td>\n",
       "      <td>1-21</td>\n",
       "      <td>40.457707</td>\n",
       "      <td>-80.012952</td>\n",
       "    </tr>\n",
       "    <tr>\n",
       "      <th>1770671485</th>\n",
       "      <td>Alton Playground</td>\n",
       "      <td>NaN</td>\n",
       "      <td>Parks - Western</td>\n",
       "      <td>Alton Park</td>\n",
       "      <td>ANDICK WAY</td>\n",
       "      <td>https://tools.wprdc.org/images/pittsburgh/play...</td>\n",
       "      <td>Beechview</td>\n",
       "      <td>4</td>\n",
       "      <td>19</td>\n",
       "      <td>42003191600</td>\n",
       "      <td>5</td>\n",
       "      <td>19</td>\n",
       "      <td>6</td>\n",
       "      <td>4-28</td>\n",
       "      <td>40.414137</td>\n",
       "      <td>-80.021605</td>\n",
       "    </tr>\n",
       "    <tr>\n",
       "      <th>18942817</th>\n",
       "      <td>Ammon Playground</td>\n",
       "      <td>NaN</td>\n",
       "      <td>Parks - Schenley</td>\n",
       "      <td>Ammon Park</td>\n",
       "      <td>MEMORY LN</td>\n",
       "      <td>https://tools.wprdc.org/images/pittsburgh/play...</td>\n",
       "      <td>Bedford Dwellings</td>\n",
       "      <td>6</td>\n",
       "      <td>5</td>\n",
       "      <td>42003050900</td>\n",
       "      <td>3</td>\n",
       "      <td>5</td>\n",
       "      <td>2</td>\n",
       "      <td>2-5</td>\n",
       "      <td>40.449037</td>\n",
       "      <td>-79.978064</td>\n",
       "    </tr>\n",
       "  </tbody>\n",
       "</table>\n",
       "</div>"
      ],
      "text/plain": [
       "                                name  type maintenance_responsibility  \\\n",
       "id                                                                      \n",
       "731501774       Able Long Playground   NaN            Parks - Western   \n",
       "1461276747  Albert Graham Playground   NaN           Parks - Schenley   \n",
       "1860709784         Alpine Playground   NaN           Parks - Northern   \n",
       "1770671485          Alton Playground   NaN            Parks - Western   \n",
       "18942817            Ammon Playground   NaN           Parks - Schenley   \n",
       "\n",
       "                               park       street  \\\n",
       "id                                                 \n",
       "731501774            Able Long Park    COAST AVE   \n",
       "1461276747  Albert Turk Graham Park  FORESIDE PL   \n",
       "1860709784      Alpine Gardens Park   ALPINE AVE   \n",
       "1770671485               Alton Park   ANDICK WAY   \n",
       "18942817                 Ammon Park    MEMORY LN   \n",
       "\n",
       "                                                        image  \\\n",
       "id                                                              \n",
       "731501774   https://tools.wprdc.org/images/pittsburgh/play...   \n",
       "1461276747  https://tools.wprdc.org/images/pittsburgh/play...   \n",
       "1860709784  https://tools.wprdc.org/images/pittsburgh/play...   \n",
       "1770671485  https://tools.wprdc.org/images/pittsburgh/play...   \n",
       "18942817    https://tools.wprdc.org/images/pittsburgh/play...   \n",
       "\n",
       "                 neighborhood  council_district  ward        tract  \\\n",
       "id                                                                   \n",
       "731501774           Beechview                 4    19  42003192000   \n",
       "1461276747   Crawford-Roberts                 6     3  42003030500   \n",
       "1860709784  Central Northside                 6    25  42003250300   \n",
       "1770671485          Beechview                 4    19  42003191600   \n",
       "18942817    Bedford Dwellings                 6     5  42003050900   \n",
       "\n",
       "            public_works_division  pli_division  police_zone fire_zone  \\\n",
       "id                                                                       \n",
       "731501774                       5            19            6      4-28   \n",
       "1461276747                      3             3            2       2-1   \n",
       "1860709784                      1            25            1      1-21   \n",
       "1770671485                      5            19            6      4-28   \n",
       "18942817                        3             5            2       2-5   \n",
       "\n",
       "             latitude  longitude  \n",
       "id                                \n",
       "731501774   40.408365 -80.028445  \n",
       "1461276747  40.440519 -79.984137  \n",
       "1860709784  40.457707 -80.012952  \n",
       "1770671485  40.414137 -80.021605  \n",
       "18942817    40.449037 -79.978064  "
      ]
     },
     "execution_count": 6,
     "metadata": {},
     "output_type": "execute_result"
    }
   ],
   "source": [
    "playgrounds = pd.read_csv(\"playgrounds.csv\", index_col=\"id\")\n",
    "playgrounds.head()"
   ]
  },
  {
   "cell_type": "markdown",
   "metadata": {},
   "source": [
    "This is where I imported the software and entered my dataset."
   ]
  },
  {
   "cell_type": "code",
   "execution_count": 7,
   "metadata": {},
   "outputs": [
    {
     "data": {
      "text/html": [
       "<div>\n",
       "<style scoped>\n",
       "    .dataframe tbody tr th:only-of-type {\n",
       "        vertical-align: middle;\n",
       "    }\n",
       "\n",
       "    .dataframe tbody tr th {\n",
       "        vertical-align: top;\n",
       "    }\n",
       "\n",
       "    .dataframe thead th {\n",
       "        text-align: right;\n",
       "    }\n",
       "</style>\n",
       "<table border=\"1\" class=\"dataframe\">\n",
       "  <thead>\n",
       "    <tr style=\"text-align: right;\">\n",
       "      <th></th>\n",
       "      <th>name</th>\n",
       "      <th>neighborhood</th>\n",
       "    </tr>\n",
       "    <tr>\n",
       "      <th>id</th>\n",
       "      <th></th>\n",
       "      <th></th>\n",
       "    </tr>\n",
       "  </thead>\n",
       "  <tbody>\n",
       "    <tr>\n",
       "      <th>731501774</th>\n",
       "      <td>Able Long Playground</td>\n",
       "      <td>Beechview</td>\n",
       "    </tr>\n",
       "    <tr>\n",
       "      <th>1461276747</th>\n",
       "      <td>Albert Graham Playground</td>\n",
       "      <td>Crawford-Roberts</td>\n",
       "    </tr>\n",
       "    <tr>\n",
       "      <th>1860709784</th>\n",
       "      <td>Alpine Playground</td>\n",
       "      <td>Central Northside</td>\n",
       "    </tr>\n",
       "    <tr>\n",
       "      <th>1770671485</th>\n",
       "      <td>Alton Playground</td>\n",
       "      <td>Beechview</td>\n",
       "    </tr>\n",
       "    <tr>\n",
       "      <th>18942817</th>\n",
       "      <td>Ammon Playground</td>\n",
       "      <td>Bedford Dwellings</td>\n",
       "    </tr>\n",
       "  </tbody>\n",
       "</table>\n",
       "</div>"
      ],
      "text/plain": [
       "                                name       neighborhood\n",
       "id                                                     \n",
       "731501774       Able Long Playground          Beechview\n",
       "1461276747  Albert Graham Playground   Crawford-Roberts\n",
       "1860709784         Alpine Playground  Central Northside\n",
       "1770671485          Alton Playground          Beechview\n",
       "18942817            Ammon Playground  Bedford Dwellings"
      ]
     },
     "execution_count": 7,
     "metadata": {},
     "output_type": "execute_result"
    }
   ],
   "source": [
    "playgrounds2 = playgrounds[[\"name\", \"neighborhood\"]]\n",
    "playgrounds2.head()"
   ]
  },
  {
   "cell_type": "markdown",
   "metadata": {},
   "source": [
    "This is where I trimmed down the amount of columns in the dataset and left only the ones important to me."
   ]
  },
  {
   "cell_type": "code",
   "execution_count": 14,
   "metadata": {},
   "outputs": [
    {
     "data": {
      "text/html": [
       "<div>\n",
       "<style scoped>\n",
       "    .dataframe tbody tr th:only-of-type {\n",
       "        vertical-align: middle;\n",
       "    }\n",
       "\n",
       "    .dataframe tbody tr th {\n",
       "        vertical-align: top;\n",
       "    }\n",
       "\n",
       "    .dataframe thead th {\n",
       "        text-align: right;\n",
       "    }\n",
       "</style>\n",
       "<table border=\"1\" class=\"dataframe\">\n",
       "  <thead>\n",
       "    <tr style=\"text-align: right;\">\n",
       "      <th></th>\n",
       "      <th>playgrounds</th>\n",
       "    </tr>\n",
       "  </thead>\n",
       "  <tbody>\n",
       "    <tr>\n",
       "      <th>Squirrel Hill South</th>\n",
       "      <td>8</td>\n",
       "    </tr>\n",
       "    <tr>\n",
       "      <th>Beechview</th>\n",
       "      <td>5</td>\n",
       "    </tr>\n",
       "    <tr>\n",
       "      <th>South Side Slopes</th>\n",
       "      <td>5</td>\n",
       "    </tr>\n",
       "    <tr>\n",
       "      <th>Highland Park</th>\n",
       "      <td>4</td>\n",
       "    </tr>\n",
       "    <tr>\n",
       "      <th>Sheraden</th>\n",
       "      <td>4</td>\n",
       "    </tr>\n",
       "    <tr>\n",
       "      <th>...</th>\n",
       "      <td>...</td>\n",
       "    </tr>\n",
       "    <tr>\n",
       "      <th>Esplen</th>\n",
       "      <td>1</td>\n",
       "    </tr>\n",
       "    <tr>\n",
       "      <th>Fairywood</th>\n",
       "      <td>1</td>\n",
       "    </tr>\n",
       "    <tr>\n",
       "      <th>Regent Square</th>\n",
       "      <td>1</td>\n",
       "    </tr>\n",
       "    <tr>\n",
       "      <th>Allentown</th>\n",
       "      <td>1</td>\n",
       "    </tr>\n",
       "    <tr>\n",
       "      <th>East Allegheny</th>\n",
       "      <td>1</td>\n",
       "    </tr>\n",
       "  </tbody>\n",
       "</table>\n",
       "<p>68 rows × 1 columns</p>\n",
       "</div>"
      ],
      "text/plain": [
       "                     playgrounds\n",
       "Squirrel Hill South            8\n",
       "Beechview                      5\n",
       "South Side Slopes              5\n",
       "Highland Park                  4\n",
       "Sheraden                       4\n",
       "...                          ...\n",
       "Esplen                         1\n",
       "Fairywood                      1\n",
       "Regent Square                  1\n",
       "Allentown                      1\n",
       "East Allegheny                 1\n",
       "\n",
       "[68 rows x 1 columns]"
      ]
     },
     "execution_count": 14,
     "metadata": {},
     "output_type": "execute_result"
    }
   ],
   "source": [
    "pg_list = playgrounds2[\"neighborhood\"].value_counts().to_frame()\n",
    "pg_list.rename(columns = {\"neighborhood\":\"playgrounds\"})"
   ]
  },
  {
   "cell_type": "markdown",
   "metadata": {},
   "source": [
    "Here, I found the number of playgrounds in each neighborhood, which is what I was looking for in order to apply it to deciding on a best neighborhood."
   ]
  },
  {
   "cell_type": "code",
   "execution_count": 16,
   "metadata": {},
   "outputs": [
    {
     "data": {
      "text/html": [
       "<div>\n",
       "<style scoped>\n",
       "    .dataframe tbody tr th:only-of-type {\n",
       "        vertical-align: middle;\n",
       "    }\n",
       "\n",
       "    .dataframe tbody tr th {\n",
       "        vertical-align: top;\n",
       "    }\n",
       "\n",
       "    .dataframe thead th {\n",
       "        text-align: right;\n",
       "    }\n",
       "</style>\n",
       "<table border=\"1\" class=\"dataframe\">\n",
       "  <thead>\n",
       "    <tr style=\"text-align: right;\">\n",
       "      <th></th>\n",
       "      <th>neighborhood</th>\n",
       "    </tr>\n",
       "  </thead>\n",
       "  <tbody>\n",
       "    <tr>\n",
       "      <th>Squirrel Hill South</th>\n",
       "      <td>8</td>\n",
       "    </tr>\n",
       "    <tr>\n",
       "      <th>Beechview</th>\n",
       "      <td>5</td>\n",
       "    </tr>\n",
       "    <tr>\n",
       "      <th>South Side Slopes</th>\n",
       "      <td>5</td>\n",
       "    </tr>\n",
       "    <tr>\n",
       "      <th>Highland Park</th>\n",
       "      <td>4</td>\n",
       "    </tr>\n",
       "    <tr>\n",
       "      <th>Sheraden</th>\n",
       "      <td>4</td>\n",
       "    </tr>\n",
       "    <tr>\n",
       "      <th>Beltzhoover</th>\n",
       "      <td>4</td>\n",
       "    </tr>\n",
       "    <tr>\n",
       "      <th>Allegheny Center</th>\n",
       "      <td>4</td>\n",
       "    </tr>\n",
       "  </tbody>\n",
       "</table>\n",
       "</div>"
      ],
      "text/plain": [
       "                     neighborhood\n",
       "Squirrel Hill South             8\n",
       "Beechview                       5\n",
       "South Side Slopes               5\n",
       "Highland Park                   4\n",
       "Sheraden                        4\n",
       "Beltzhoover                     4\n",
       "Allegheny Center                4"
      ]
     },
     "execution_count": 16,
     "metadata": {},
     "output_type": "execute_result"
    }
   ],
   "source": [
    "df = pg_list[pg_list['neighborhood'] > 3]\n",
    "df"
   ]
  },
  {
   "cell_type": "markdown",
   "metadata": {},
   "source": [
    "Here, I decreased the amount of data into only what pertained to my analysis."
   ]
  },
  {
   "cell_type": "code",
   "execution_count": 17,
   "metadata": {},
   "outputs": [
    {
     "data": {
      "text/plain": [
       "<matplotlib.axes._subplots.AxesSubplot at 0x7fa262de5d30>"
      ]
     },
     "execution_count": 17,
     "metadata": {},
     "output_type": "execute_result"
    },
    {
     "data": {
      "image/png": "[encoded data removed]",
      "text/plain": [
       "<Figure size 432x288 with 1 Axes>"
      ]
     },
     "metadata": {
      "needs_background": "light"
     },
     "output_type": "display_data"
    }
   ],
   "source": [
    "df.plot.bar()"
   ]
  },
  {
   "cell_type": "markdown",
   "metadata": {},
   "source": [
    "Here, I used a bar graph to more clearly visualize which neighborhoods had the most playgrounds."
   ]
  },
  {
   "cell_type": "markdown",
   "metadata": {},
   "source": [
    "## Results"
   ]
  },
  {
   "cell_type": "markdown",
   "metadata": {},
   "source": [
    "I was looking for the neighborhood with the most playgrounds. After searching through the data, the neighborhood with the most is Squirrel Hill South. In case this isn't the winner for the other two datasets, here are my top 7 neighborhoods in order from most playgrounds to least."
   ]
  },
  {
   "cell_type": "markdown",
   "metadata": {},
   "source": [
    "<ol>\n",
    "    <li>Squirrel Hill South</li>\n",
    "    <li>Beechview</li>\n",
    "    <li>South Slide Slopes</li>\n",
    "    <li>Highland Park</li>\n",
    "    <li>Sheraden</li>\n",
    "    <li>Beltzhoover</li>\n",
    "    <li>Allegheny Center</li>\n",
    "</ol>"
   ]
  },
  {
   "cell_type": "code",
   "execution_count": null,
   "metadata": {},
   "outputs": [],
   "source": []
  }
 ],
 "metadata": {
  "kernelspec": {
   "display_name": "Python 3",
   "language": "python",
   "name": "python3"
  },
  "language_info": {
   "codemirror_mode": {
    "name": "ipython",
    "version": 3
   },
   "file_extension": ".py",
   "mimetype": "text/x-python",
   "name": "python",
   "nbconvert_exporter": "python",
   "pygments_lexer": "ipython3",
   "version": "3.8.3"
  }
 },
 "nbformat": 4,
 "nbformat_minor": 4
}
