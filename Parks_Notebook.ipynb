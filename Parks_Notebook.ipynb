{
 "cells": [
  {
   "cell_type": "markdown",
   "metadata": {},
   "source": [
    "<h1>Introduction</h1>"
   ]
  },
  {
   "cell_type": "markdown",
   "metadata": {},
   "source": [
    "This is my analysis of the parks and rinks dataset for the final project."
   ]
  },
  {
   "cell_type": "markdown",
   "metadata": {},
   "source": [
    "<h1>Importing Pandas and MatpotLib</h1>"
   ]
  },
  {
   "cell_type": "code",
   "execution_count": 2,
   "metadata": {},
   "outputs": [],
   "source": [
    "import pandas as pd\n",
    "import numpy as np\n",
    "%matplotlib inline\n",
    "import matplotlib.pyplot as plt"
   ]
  },
  {
   "cell_type": "markdown",
   "metadata": {},
   "source": [
    "<h1>Establishing Data</h1>"
   ]
  },
  {
   "cell_type": "markdown",
   "metadata": {},
   "source": [
    "In this short code block I import my data set and print out the raw contents."
   ]
  },
  {
   "cell_type": "code",
   "execution_count": 6,
   "metadata": {},
   "outputs": [
    {
     "data": {
      "text/html": [
       "<div>\n",
       "<style scoped>\n",
       "    .dataframe tbody tr th:only-of-type {\n",
       "        vertical-align: middle;\n",
       "    }\n",
       "\n",
       "    .dataframe tbody tr th {\n",
       "        vertical-align: top;\n",
       "    }\n",
       "\n",
       "    .dataframe thead th {\n",
       "        text-align: right;\n",
       "    }\n",
       "</style>\n",
       "<table border=\"1\" class=\"dataframe\">\n",
       "  <thead>\n",
       "    <tr style=\"text-align: right;\">\n",
       "      <th></th>\n",
       "      <th>name</th>\n",
       "      <th>type</th>\n",
       "      <th>park</th>\n",
       "      <th>location</th>\n",
       "      <th>surface_material</th>\n",
       "      <th>grandstand</th>\n",
       "      <th>inactive</th>\n",
       "      <th>neighborhood</th>\n",
       "      <th>council_district</th>\n",
       "      <th>ward</th>\n",
       "      <th>tract</th>\n",
       "      <th>public_works_division</th>\n",
       "      <th>pli_division</th>\n",
       "      <th>police_zone</th>\n",
       "      <th>fire_zone</th>\n",
       "      <th>latitude</th>\n",
       "      <th>longitude</th>\n",
       "    </tr>\n",
       "    <tr>\n",
       "      <th>id</th>\n",
       "      <th></th>\n",
       "      <th></th>\n",
       "      <th></th>\n",
       "      <th></th>\n",
       "      <th></th>\n",
       "      <th></th>\n",
       "      <th></th>\n",
       "      <th></th>\n",
       "      <th></th>\n",
       "      <th></th>\n",
       "      <th></th>\n",
       "      <th></th>\n",
       "      <th></th>\n",
       "      <th></th>\n",
       "      <th></th>\n",
       "      <th></th>\n",
       "      <th></th>\n",
       "    </tr>\n",
       "  </thead>\n",
       "  <tbody>\n",
       "    <tr>\n",
       "      <th>1592343416</th>\n",
       "      <td>Allegheny Commons Basketball Court 1</td>\n",
       "      <td>Basketball (Full)</td>\n",
       "      <td>Allegheny Commons</td>\n",
       "      <td>NaN</td>\n",
       "      <td>NaN</td>\n",
       "      <td>0</td>\n",
       "      <td>f</td>\n",
       "      <td>Allegheny Center</td>\n",
       "      <td>1</td>\n",
       "      <td>22</td>\n",
       "      <td>42003562700</td>\n",
       "      <td>1</td>\n",
       "      <td>22</td>\n",
       "      <td>1</td>\n",
       "      <td>1-7</td>\n",
       "      <td>40.454443</td>\n",
       "      <td>-80.008104</td>\n",
       "    </tr>\n",
       "    <tr>\n",
       "      <th>1365248699</th>\n",
       "      <td>Allegheny Commons Park Tennis Court 1</td>\n",
       "      <td>Tennis</td>\n",
       "      <td>Allegheny Commons</td>\n",
       "      <td>NaN</td>\n",
       "      <td>Asphalt</td>\n",
       "      <td>0</td>\n",
       "      <td>f</td>\n",
       "      <td>Allegheny Center</td>\n",
       "      <td>1</td>\n",
       "      <td>22</td>\n",
       "      <td>42003562700</td>\n",
       "      <td>1</td>\n",
       "      <td>22</td>\n",
       "      <td>1</td>\n",
       "      <td>1-7</td>\n",
       "      <td>40.452400</td>\n",
       "      <td>-80.012531</td>\n",
       "    </tr>\n",
       "    <tr>\n",
       "      <th>1757180821</th>\n",
       "      <td>Allegheny Commons Park Tennis Court 2</td>\n",
       "      <td>Tennis</td>\n",
       "      <td>Allegheny Commons</td>\n",
       "      <td>NaN</td>\n",
       "      <td>Asphalt</td>\n",
       "      <td>0</td>\n",
       "      <td>f</td>\n",
       "      <td>Allegheny Center</td>\n",
       "      <td>1</td>\n",
       "      <td>22</td>\n",
       "      <td>42003562700</td>\n",
       "      <td>1</td>\n",
       "      <td>22</td>\n",
       "      <td>1</td>\n",
       "      <td>1-7</td>\n",
       "      <td>40.452238</td>\n",
       "      <td>-80.012150</td>\n",
       "    </tr>\n",
       "    <tr>\n",
       "      <th>744303307</th>\n",
       "      <td>Allegheny Commons Park Tennis Court 3</td>\n",
       "      <td>Tennis</td>\n",
       "      <td>Allegheny Commons</td>\n",
       "      <td>NaN</td>\n",
       "      <td>Asphalt</td>\n",
       "      <td>0</td>\n",
       "      <td>f</td>\n",
       "      <td>Allegheny Center</td>\n",
       "      <td>1</td>\n",
       "      <td>22</td>\n",
       "      <td>42003562700</td>\n",
       "      <td>1</td>\n",
       "      <td>22</td>\n",
       "      <td>1</td>\n",
       "      <td>1-7</td>\n",
       "      <td>40.452075</td>\n",
       "      <td>-80.011767</td>\n",
       "    </tr>\n",
       "    <tr>\n",
       "      <th>1157777481</th>\n",
       "      <td>Alton Park Basketball Court 1</td>\n",
       "      <td>Basketball (Half)</td>\n",
       "      <td>Alton Park</td>\n",
       "      <td>NaN</td>\n",
       "      <td>Asphalt</td>\n",
       "      <td>0</td>\n",
       "      <td>f</td>\n",
       "      <td>Beechview</td>\n",
       "      <td>4</td>\n",
       "      <td>19</td>\n",
       "      <td>42003191600</td>\n",
       "      <td>5</td>\n",
       "      <td>19</td>\n",
       "      <td>6</td>\n",
       "      <td>4-28</td>\n",
       "      <td>40.414152</td>\n",
       "      <td>-80.022305</td>\n",
       "    </tr>\n",
       "  </tbody>\n",
       "</table>\n",
       "</div>"
      ],
      "text/plain": [
       "                                             name               type  \\\n",
       "id                                                                     \n",
       "1592343416   Allegheny Commons Basketball Court 1  Basketball (Full)   \n",
       "1365248699  Allegheny Commons Park Tennis Court 1             Tennis   \n",
       "1757180821  Allegheny Commons Park Tennis Court 2             Tennis   \n",
       "744303307   Allegheny Commons Park Tennis Court 3             Tennis   \n",
       "1157777481          Alton Park Basketball Court 1  Basketball (Half)   \n",
       "\n",
       "                         park location surface_material  grandstand inactive  \\\n",
       "id                                                                             \n",
       "1592343416  Allegheny Commons      NaN              NaN           0        f   \n",
       "1365248699  Allegheny Commons      NaN          Asphalt           0        f   \n",
       "1757180821  Allegheny Commons      NaN          Asphalt           0        f   \n",
       "744303307   Allegheny Commons      NaN          Asphalt           0        f   \n",
       "1157777481         Alton Park      NaN          Asphalt           0        f   \n",
       "\n",
       "                neighborhood  council_district  ward        tract  \\\n",
       "id                                                                  \n",
       "1592343416  Allegheny Center                 1    22  42003562700   \n",
       "1365248699  Allegheny Center                 1    22  42003562700   \n",
       "1757180821  Allegheny Center                 1    22  42003562700   \n",
       "744303307   Allegheny Center                 1    22  42003562700   \n",
       "1157777481         Beechview                 4    19  42003191600   \n",
       "\n",
       "            public_works_division  pli_division  police_zone fire_zone  \\\n",
       "id                                                                       \n",
       "1592343416                      1            22            1       1-7   \n",
       "1365248699                      1            22            1       1-7   \n",
       "1757180821                      1            22            1       1-7   \n",
       "744303307                       1            22            1       1-7   \n",
       "1157777481                      5            19            6      4-28   \n",
       "\n",
       "             latitude  longitude  \n",
       "id                                \n",
       "1592343416  40.454443 -80.008104  \n",
       "1365248699  40.452400 -80.012531  \n",
       "1757180821  40.452238 -80.012150  \n",
       "744303307   40.452075 -80.011767  \n",
       "1157777481  40.414152 -80.022305  "
      ]
     },
     "execution_count": 6,
     "metadata": {},
     "output_type": "execute_result"
    }
   ],
   "source": [
    "parks = pd.read_csv(\"parks.csv\", index_col=\"id\")\n",
    "parks.head()"
   ]
  },
  {
   "cell_type": "markdown",
   "metadata": {},
   "source": [
    "<h1>Cleaning up the Data</h1>"
   ]
  },
  {
   "cell_type": "markdown",
   "metadata": {},
   "source": [
    "For this step, I filtered my data table to remove any statistics which are of no use to me in this proof. I accomplished this by using the drop() method which removes specified columns from a table."
   ]
  },
  {
   "cell_type": "code",
   "execution_count": 12,
   "metadata": {},
   "outputs": [],
   "source": [
    "parks_filtered = parks[[\"type\", \"neighborhood\", \"neighborhood\"]]"
   ]
  },
  {
   "cell_type": "code",
   "execution_count": null,
   "metadata": {},
   "outputs": [],
   "source": []
  }
 ],
 "metadata": {
  "kernelspec": {
   "display_name": "Python 3",
   "language": "python",
   "name": "python3"
  },
  "language_info": {
   "codemirror_mode": {
    "name": "ipython",
    "version": 3
   },
   "file_extension": ".py",
   "mimetype": "text/x-python",
   "name": "python",
   "nbconvert_exporter": "python",
   "pygments_lexer": "ipython3",
   "version": "3.8.3"
  }
 },
 "nbformat": 4,
 "nbformat_minor": 4
}
