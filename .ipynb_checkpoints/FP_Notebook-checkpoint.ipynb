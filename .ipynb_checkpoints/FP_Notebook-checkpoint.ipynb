{
 "cells": [
  {
   "cell_type": "markdown",
   "metadata": {},
   "source": [
    "<h1>Introduction</h1>"
   ]
  },
  {
   "cell_type": "markdown",
   "metadata": {},
   "source": [
    "Hi and welcome to the Adrenaline Junkies notebook! For our final project we decided to measure the \"best\" neighborhood in Pittsburgh by calculating which one is the most \"fun\"! We calculated this through 3 different data sets: the number of parks and rinks within each neighborhood, the number of playgrounds, and the number of hiking trails. We figured this would be a good metric as opposed to anything else because it'd be relatively easy to find a clear and concise winner. A couple alternatives we considered were safety, eco-friendliness, and COVID measures."
   ]
  },
  {
   "cell_type": "markdown",
   "metadata": {},
   "source": [
    "<h1> Importing Pandas and Data Sheets </h1>"
   ]
  },
  {
   "cell_type": "code",
   "execution_count": null,
   "metadata": {},
   "outputs": [],
   "source": [
    "import pandas as pd\n",
    "parks_pandas = pd.read_csv(\"parks.csv\", index_col=\"id\")\n",
    "trails_pandas = pd.read_csv(\"trails.csv\", index_col=\"objectid\")\n",
    "playgrounds_pandas = pd.read_csv(\"playgrounds.csv\", index_col=\"id\")"
   ]
  },
  {
   "cell_type": "code",
   "execution_count": null,
   "metadata": {},
   "outputs": [],
   "source": []
  }
 ],
 "metadata": {
  "kernelspec": {
   "display_name": "Python 3",
   "language": "python",
   "name": "python3"
  },
  "language_info": {
   "codemirror_mode": {
    "name": "ipython",
    "version": 3
   },
   "file_extension": ".py",
   "mimetype": "text/x-python",
   "name": "python",
   "nbconvert_exporter": "python",
   "pygments_lexer": "ipython3",
   "version": "3.8.3"
  }
 },
 "nbformat": 4,
 "nbformat_minor": 4
}
