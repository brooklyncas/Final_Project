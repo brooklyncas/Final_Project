{
 "cells": [
  {
   "cell_type": "markdown",
   "metadata": {},
   "source": [
    "<h1> Importing Pandas, MatLib, and Data Sheets </h1>"
   ]
  },
  {
   "cell_type": "code",
   "execution_count": 4,
   "metadata": {},
   "outputs": [],
   "source": [
    "import pandas as pd\n",
    "import numpy as np\n",
    "%matplotlib inline\n",
    "import matplotlib.pyplot as plt\n",
    "parks_pandas = pd.read_csv(\"parks.csv\", index_col=\"id\")\n",
    "greenspaces_pandas = pd.read_csv(\"green_spaces.csv\", index_col=\"_id\")\n",
    "playgrounds_pandas = pd.read_csv(\"playgrounds.csv\", index_col=\"id\")"
   ]
  },
  {
   "cell_type": "markdown",
   "metadata": {},
   "source": [
    "<h1>Introduction</h1>"
   ]
  },
  {
   "cell_type": "markdown",
   "metadata": {},
   "source": [
    "Hi and welcome to the Adrenaline Junkies notebook! For our final project we decided to measure the \"best\" neighborhood in Pittsburgh by calculating which one is the most \"fun\"! We calculated this through 3 different data sets: the number of parks and rinks within each neighborhood, the number of playgrounds, and the number of green spaces. We figured this would be a good metric as opposed to anything else because it'd be relatively easy to find a clear and concise winner. A couple alternatives we considered were safety, eco-friendliness, and COVID measures."
   ]
  },
  {
   "cell_type": "markdown",
   "metadata": {},
   "source": [
    "<h1>The Metric</h1>"
   ]
  },
  {
   "cell_type": "markdown",
   "metadata": {},
   "source": [
    "The metric we chose to find the best neighborhood in Pittsburgh was its \"fun\" value. We measured this through the amount and variety of activites that could be done in any given area. As stated before, our 3 datasets were the number of parks and rinks, the number of playgrounds, and the number of green spaces within the neighborhood. We chose these 3 datasets because they best represent a wide age and activity range."
   ]
  },
  {
   "cell_type": "markdown",
   "metadata": {},
   "source": [
    "<h1>The Best Neighborhood </h1>"
   ]
  },
  {
   "cell_type": "markdown",
   "metadata": {},
   "source": [
    "The best neighborhood for kids to have fun outside in is **Squirrel Hill South**."
   ]
  },
  {
   "cell_type": "markdown",
   "metadata": {},
   "source": [
    "Even though Squirrel Hill South came in seventh in Green Spaces, the first six neighborhoods did not make it in the top of the other two analyses. Plus, Squirrel Hill South came in first for Number of Parks and Rinks, and Playgrounds."
   ]
  },
  {
   "cell_type": "markdown",
   "metadata": {},
   "source": [
    "<h1> Conclusion </h1>"
   ]
  },
  {
   "cell_type": "markdown",
   "metadata": {},
   "source": [
    "**Brooklyn-**"
   ]
  },
  {
   "cell_type": "markdown",
   "metadata": {},
   "source": [
    "I would honestly have to say that Squirrel Hill South is my favorite neighborhood to visit because of Schenley Park and Frick Park. I have gone hiking there, and I have found it to be quite enjoyable. I find that squirrel Hill South would be a great place to go for anyone who is seeking an adrenaline rush whether that be parks and rinks, playgrounds, or green spaces."
   ]
  },
  {
   "cell_type": "markdown",
   "metadata": {},
   "source": [
    "**Hleb-**"
   ]
  },
  {
   "cell_type": "markdown",
   "metadata": {},
   "source": [
    "I personally think that Squirrel Hill South is also the best neighborhood in Pittsburgh. It has by far the largest amount of courts, rinks, and playgrounds. It also has Schenley Park which is one of my favorite places to go to relax in Pittsburgh."
   ]
  },
  {
   "cell_type": "markdown",
   "metadata": {},
   "source": [
    "**Karlynn-**"
   ]
  },
  {
   "cell_type": "markdown",
   "metadata": {},
   "source": [
    "I'm not too familiar with the neighborhoods of Pittsburgh, so if I had to pick my favorite neighborhood, it would be Central Oakland. Based on our metric of choosing the best neighborhood to have fun outside in, I think Central Oakland could still work. This is mainly because of Schenley Park, however I think some of the park bleeds into Squirrel Hill South, which is our winning \"best neighborhood.\""
   ]
  }
 ],
 "metadata": {
  "kernelspec": {
   "display_name": "Python 3",
   "language": "python",
   "name": "python3"
  },
  "language_info": {
   "codemirror_mode": {
    "name": "ipython",
    "version": 3
   },
   "file_extension": ".py",
   "mimetype": "text/x-python",
   "name": "python",
   "nbconvert_exporter": "python",
   "pygments_lexer": "ipython3",
   "version": "3.8.3"
  }
 },
 "nbformat": 4,
 "nbformat_minor": 4
}
